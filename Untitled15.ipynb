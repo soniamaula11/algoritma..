{
 "cells": [
  {
   "cell_type": "code",
   "execution_count": 9,
   "id": "900f7d02-5b4b-4bcc-9c5c-561c2aa31f8d",
   "metadata": {},
   "outputs": [
    {
     "name": "stdin",
     "output_type": "stream",
     "text": [
      "Masukkan Nama-mu:  Sonia Maula Ismail\n",
      "Masukkan Umur-mu:  18\n",
      "Masukkan Alamat-mu:  Bekasi Timur\n",
      "Masukkan Email-mu:  soniamaula11@gmail.com\n",
      "Masukkan Dosen Wali-mu:  Bu ratna\n"
     ]
    },
    {
     "name": "stdout",
     "output_type": "stream",
     "text": [
      "Nama: Sonia Maula Ismail\n",
      "Umur: 18\n",
      "Alamat: Bekasi Timur\n",
      "Email: soniamaula11@gmail.com\n",
      "Dosen Wali: Bu ratna\n",
      "\n",
      "Selesai!\n"
     ]
    }
   ],
   "source": [
    "nama = input(\"Masukkan Nama-mu: \")\n",
    "umur = input(\"Masukkan Umur-mu: \")\n",
    "alamat = input(\"Masukkan Alamat-mu: \")\n",
    "email = input(\"Masukkan Email-mu: \")\n",
    "dosen_wali = input(\"Masukkan Dosen Wali-mu: \")\n",
    "\n",
    "with open(\"Biodata.txt\", \"w\") as f:\n",
    "  f.write(f\"Nama: {nama}\\n\")\n",
    "  f.write(f\"Umur: {umur}\\n\")\n",
    "  f.write(f\"Alamat: {alamat}\\n\")\n",
    "  f.write(f\"Email: {email}\\n\")\n",
    "  f.write(f\"Dosen Wali: {dosen_wali}\\n\")\n",
    "  f.close()\n",
    "  \n",
    "file = open(\"Biodata.txt\", \"r\")\n",
    "text = file.read()\n",
    "print(text)\n",
    "file.close()\n",
    "\n",
    "print(\"Selesai!\")"
   ]
  },
  {
   "cell_type": "code",
   "execution_count": null,
   "id": "dd576bbc-1ca2-4573-9cd4-560331ffc330",
   "metadata": {},
   "outputs": [],
   "source": []
  }
 ],
 "metadata": {
  "kernelspec": {
   "display_name": "Python 3 (ipykernel)",
   "language": "python",
   "name": "python3"
  },
  "language_info": {
   "codemirror_mode": {
    "name": "ipython",
    "version": 3
   },
   "file_extension": ".py",
   "mimetype": "text/x-python",
   "name": "python",
   "nbconvert_exporter": "python",
   "pygments_lexer": "ipython3",
   "version": "3.12.4"
  }
 },
 "nbformat": 4,
 "nbformat_minor": 5
}
