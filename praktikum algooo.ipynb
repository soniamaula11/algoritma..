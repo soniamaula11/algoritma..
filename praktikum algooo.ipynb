{
 "cells": [
  {
   "cell_type": "code",
   "execution_count": 5,
   "id": "2a3bb258-b4e1-409e-8df2-1afdb23e0dda",
   "metadata": {},
   "outputs": [
    {
     "name": "stdout",
     "output_type": "stream",
     "text": [
      "---------File Handling----------\n",
      "1. Membuat File Baru\n",
      "2. Membaca File\n",
      "3. Mengedit File\n",
      "9. Keluar\n"
     ]
    },
    {
     "name": "stdin",
     "output_type": "stream",
     "text": [
      "Pilihan(1/2/3/9):  1\n",
      "Nama File:  biodata2\n",
      "Nim Anda:  065002400046\n",
      "Tahun Angkatan:  2024\n"
     ]
    },
    {
     "name": "stdout",
     "output_type": "stream",
     "text": [
      "\n",
      "File Berhasil di buat\n",
      "\n",
      "---------File Handling----------\n",
      "1. Membuat File Baru\n",
      "2. Membaca File\n",
      "3. Mengedit File\n",
      "9. Keluar\n"
     ]
    },
    {
     "name": "stdin",
     "output_type": "stream",
     "text": [
      "Pilihan(1/2/3/9):  2\n",
      "Nama File:  biodata2\n"
     ]
    },
    {
     "name": "stdout",
     "output_type": "stream",
     "text": [
      "nama: biodata2\n",
      "Nim: 065002400046\n",
      "Tahun: 2024\n",
      "\n",
      "---------File Handling----------\n",
      "1. Membuat File Baru\n",
      "2. Membaca File\n",
      "3. Mengedit File\n",
      "9. Keluar\n"
     ]
    },
    {
     "name": "stdin",
     "output_type": "stream",
     "text": [
      "Pilihan(1/2/3/9):  3\n",
      "Nama File:  biodata2\n",
      "Masukkan Nama Sahabatmu:  bunga\n",
      "Masukkan Note Tambahan:  apa ya\n"
     ]
    },
    {
     "name": "stdout",
     "output_type": "stream",
     "text": [
      "\n",
      "File berhasil diedit\n",
      "\n",
      "---------File Handling----------\n",
      "1. Membuat File Baru\n",
      "2. Membaca File\n",
      "3. Mengedit File\n",
      "9. Keluar\n"
     ]
    },
    {
     "name": "stdin",
     "output_type": "stream",
     "text": [
      "Pilihan(1/2/3/9):  2\n",
      "Nama File:  biodata2\n"
     ]
    },
    {
     "name": "stdout",
     "output_type": "stream",
     "text": [
      "nama: biodata2\n",
      "Nim: 065002400046\n",
      "Tahun: 2024\n",
      "Nama Sahabat: bunga\n",
      "Note: apa ya\n",
      "\n",
      "---------File Handling----------\n",
      "1. Membuat File Baru\n",
      "2. Membaca File\n",
      "3. Mengedit File\n",
      "9. Keluar\n"
     ]
    },
    {
     "name": "stdin",
     "output_type": "stream",
     "text": [
      "Pilihan(1/2/3/9):  9\n"
     ]
    },
    {
     "name": "stdout",
     "output_type": "stream",
     "text": [
      "Bye :)\n"
     ]
    }
   ],
   "source": [
    "def menu():\n",
    "    print(\"---------File Handling----------\")\n",
    "    print(\"1. Membuat File Baru\")\n",
    "    print(\"2. Membaca File\")\n",
    "    print(\"3. Mengedit File\")\n",
    "    print(\"9. Keluar\")\n",
    "\n",
    "def membuat_file():\n",
    "    nama_file = input(\"Nama File: \")\n",
    "    nim = input(\"Nim Anda: \")\n",
    "    tahun = input(\"Tahun Angkatan: \")\n",
    "    with open(nama_file + \".txt\", \"w\") as file:\n",
    "        file.write(f\"nama: {nama_file}\\n\")\n",
    "        file.write(f\"Nim: {nim}\\n\")\n",
    "        file.write(f\"Tahun: {tahun}\\n\")\n",
    "    print(\"\\nFile Berhasil di buat\\n\")\n",
    "\n",
    "def membaca_file():\n",
    "    nama_file = input(\"Nama File: \")\n",
    "    try:\n",
    "        with open(nama_file + \".txt\", \"r\") as file:\n",
    "            print(file.read())\n",
    "    except FileNotFoundError:\n",
    "        print(\"File tidak ditemukan.\")\n",
    "\n",
    "def mengedit_file():\n",
    "    nama_file = input(\"Nama File: \")\n",
    "    try:\n",
    "        with open(nama_file + \".txt\", \"a\") as file:\n",
    "            sahabat = input(\"Masukkan Nama Sahabatmu: \")\n",
    "            note = input(\"Masukkan Note Tambahan: \")\n",
    "            file.write(f\"Nama Sahabat: {sahabat}\\n\")\n",
    "            file.write(f\"Note: {note}\\n\")\n",
    "        print(\"\\nFile berhasil diedit\\n\")\n",
    "    except FileNotFoundError:\n",
    "        print(\"File tidak ditemukan.\")\n",
    "\n",
    "# Main Program\n",
    "while True:\n",
    "    menu()\n",
    "    pilihan = input(\"Pilihan(1/2/3/9): \")\n",
    "    if pilihan == \"1\":\n",
    "        membuat_file()\n",
    "    elif pilihan == \"2\":\n",
    "        membaca_file()\n",
    "    elif pilihan == \"3\":\n",
    "        mengedit_file()\n",
    "    elif pilihan == \"9\":\n",
    "        print(\"Bye :)\")\n",
    "        break\n",
    "    else:\n",
    "        print(\"Pilihan tidak valid. Coba lagi.\")\n"
   ]
  },
  {
   "cell_type": "code",
   "execution_count": null,
   "id": "889de003-d9d3-45b8-a275-a4f4b0322043",
   "metadata": {},
   "outputs": [],
   "source": []
  }
 ],
 "metadata": {
  "kernelspec": {
   "display_name": "Python 3 (ipykernel)",
   "language": "python",
   "name": "python3"
  },
  "language_info": {
   "codemirror_mode": {
    "name": "ipython",
    "version": 3
   },
   "file_extension": ".py",
   "mimetype": "text/x-python",
   "name": "python",
   "nbconvert_exporter": "python",
   "pygments_lexer": "ipython3",
   "version": "3.12.4"
  }
 },
 "nbformat": 4,
 "nbformat_minor": 5
}
